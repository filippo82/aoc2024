{
 "cells": [
  {
   "cell_type": "code",
   "execution_count": 1,
   "metadata": {},
   "outputs": [
    {
     "name": "stdout",
     "output_type": "stream",
     "text": [
      "180233229\n"
     ]
    }
   ],
   "source": [
    "import re\n",
    "\n",
    "def find_multiplications(text):\n",
    "    \"\"\"\n",
    "    Find all valid mul(X,Y) instructions in the text where X and Y are 1-3 digit numbers.\n",
    "    Return the sum of all products.\n",
    "    \"\"\"\n",
    "    # Pattern matches mul( followed by 1-3 digits, comma, 1-3 digits, and )\n",
    "    pattern = r'mul\\((\\d{1,3}),(\\d{1,3})\\)'\n",
    "    \n",
    "    total = 0\n",
    "    # Find all matches in the text\n",
    "    matches = re.finditer(pattern, text)\n",
    "    \n",
    "    for match in matches:\n",
    "        # Extract the numbers\n",
    "        x = int(match.group(1))\n",
    "        y = int(match.group(2))\n",
    "        # Add their product to the total\n",
    "        total += x * y\n",
    "    \n",
    "    return total\n",
    "\n",
    "# Read and process input file\n",
    "with open('input', 'r') as file:\n",
    "    input_text = file.read()\n",
    "\n",
    "result = find_multiplications(input_text)\n",
    "print(result)"
   ]
  }
 ],
 "metadata": {
  "kernelspec": {
   "display_name": "aoc",
   "language": "python",
   "name": "python3"
  },
  "language_info": {
   "codemirror_mode": {
    "name": "ipython",
    "version": 3
   },
   "file_extension": ".py",
   "mimetype": "text/x-python",
   "name": "python",
   "nbconvert_exporter": "python",
   "pygments_lexer": "ipython3",
   "version": "3.12.7"
  }
 },
 "nbformat": 4,
 "nbformat_minor": 2
}
