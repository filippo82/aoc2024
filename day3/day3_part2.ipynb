{
 "cells": [
  {
   "cell_type": "code",
   "execution_count": 1,
   "metadata": {},
   "outputs": [
    {
     "name": "stdout",
     "output_type": "stream",
     "text": [
      "95411583\n"
     ]
    }
   ],
   "source": [
    "import re\n",
    "\n",
    "def find_multiplications(text):\n",
    "    \"\"\"\n",
    "    Find all valid mul(X,Y) instructions in the text where X and Y are 1-3 digit numbers,\n",
    "    taking into account do() and don't() instructions.\n",
    "    Return the sum of all enabled products.\n",
    "    \"\"\"\n",
    "    # Find all control and multiplication instructions\n",
    "    mul_pattern = r'mul\\((\\d{1,3}),(\\d{1,3})\\)'\n",
    "    do_pattern = r'do\\(\\)'\n",
    "    dont_pattern = r'don\\'t\\(\\)'\n",
    "    \n",
    "    # Find all matches with their positions\n",
    "    instructions = []\n",
    "    \n",
    "    # Find multiplications\n",
    "    for match in re.finditer(mul_pattern, text):\n",
    "        x = int(match.group(1))\n",
    "        y = int(match.group(2))\n",
    "        instructions.append((match.start(), 'mul', x * y))\n",
    "    \n",
    "    # Find do() instructions\n",
    "    for match in re.finditer(do_pattern, text):\n",
    "        instructions.append((match.start(), 'do', None))\n",
    "    \n",
    "    # Find don't() instructions\n",
    "    for match in re.finditer(dont_pattern, text):\n",
    "        instructions.append((match.start(), 'dont', None))\n",
    "    \n",
    "    # Sort instructions by position\n",
    "    instructions.sort()\n",
    "    \n",
    "    # Process instructions in order\n",
    "    total = 0\n",
    "    enabled = True  # Multiplications are enabled at the start\n",
    "    \n",
    "    for _, instr_type, value in instructions:\n",
    "        if instr_type == 'do':\n",
    "            enabled = True\n",
    "        elif instr_type == 'dont':\n",
    "            enabled = False\n",
    "        elif instr_type == 'mul' and enabled:\n",
    "            total += value\n",
    "    \n",
    "    return total\n",
    "\n",
    "# Read and process input file\n",
    "with open('input', 'r') as file:\n",
    "    input_text = file.read()\n",
    "\n",
    "result = find_multiplications(input_text)\n",
    "print(result)"
   ]
  }
 ],
 "metadata": {
  "kernelspec": {
   "display_name": "aoc",
   "language": "python",
   "name": "python3"
  },
  "language_info": {
   "codemirror_mode": {
    "name": "ipython",
    "version": 3
   },
   "file_extension": ".py",
   "mimetype": "text/x-python",
   "name": "python",
   "nbconvert_exporter": "python",
   "pygments_lexer": "ipython3",
   "version": "3.12.7"
  }
 },
 "nbformat": 4,
 "nbformat_minor": 2
}
