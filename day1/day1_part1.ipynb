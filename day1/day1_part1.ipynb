{
 "cells": [
  {
   "cell_type": "code",
   "execution_count": 1,
   "metadata": {},
   "outputs": [
    {
     "name": "stdout",
     "output_type": "stream",
     "text": [
      "Total distance: 1765812\n"
     ]
    }
   ],
   "source": [
    "def calculate_distance(input_text):\n",
    "    # Parse the input into two lists\n",
    "    left_list = []\n",
    "    right_list = []\n",
    "    \n",
    "    # Split input into lines and process each line\n",
    "    for line in input_text.strip().split('\\n'):\n",
    "        if line.strip():  # Skip empty lines\n",
    "            left, right = map(int, line.split())\n",
    "            left_list.append(left)\n",
    "            right_list.append(right)\n",
    "    \n",
    "    # Sort both lists\n",
    "    left_sorted = sorted(left_list)\n",
    "    right_sorted = sorted(right_list)\n",
    "    \n",
    "    # Calculate distances between paired numbers\n",
    "    total_distance = 0\n",
    "    for l, r in zip(left_sorted, right_sorted):\n",
    "        distance = abs(l - r)\n",
    "        total_distance += distance\n",
    "    \n",
    "    return total_distance\n",
    "\n",
    "# Read from the input file\n",
    "try:\n",
    "    with open('input', 'r') as file:\n",
    "        input_text = file.read()\n",
    "    \n",
    "    result = calculate_distance(input_text)\n",
    "    print(f\"Total distance: {result}\")\n",
    "except FileNotFoundError:\n",
    "    print(\"Error: 'input' file not found in the current directory\")\n",
    "except Exception as e:\n",
    "    print(f\"An error occurred: {e}\")"
   ]
  }
 ],
 "metadata": {
  "kernelspec": {
   "display_name": "aoc",
   "language": "python",
   "name": "python3"
  },
  "language_info": {
   "codemirror_mode": {
    "name": "ipython",
    "version": 3
   },
   "file_extension": ".py",
   "mimetype": "text/x-python",
   "name": "python",
   "nbconvert_exporter": "python",
   "pygments_lexer": "ipython3",
   "version": "3.12.7"
  }
 },
 "nbformat": 4,
 "nbformat_minor": 2
}
