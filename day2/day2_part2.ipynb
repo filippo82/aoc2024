{
 "cells": [
  {
   "cell_type": "code",
   "execution_count": 1,
   "metadata": {},
   "outputs": [
    {
     "name": "stdout",
     "output_type": "stream",
     "text": [
      "381\n"
     ]
    }
   ],
   "source": [
    "def is_safe_report(levels):\n",
    "    \"\"\"\n",
    "    Check if a report is safe based on the given rules:\n",
    "    1. Levels must be all increasing or all decreasing\n",
    "    2. Adjacent levels must differ by at least 1 and at most 3\n",
    "    \"\"\"\n",
    "    if len(levels) < 2:\n",
    "        return False\n",
    "    \n",
    "    # Calculate differences between adjacent numbers\n",
    "    diffs = [levels[i+1] - levels[i] for i in range(len(levels)-1)]\n",
    "    \n",
    "    # Check if all differences are positive (increasing) or negative (decreasing)\n",
    "    all_increasing = all(diff > 0 for diff in diffs)\n",
    "    all_decreasing = all(diff < 0 for diff in diffs)\n",
    "    \n",
    "    # If neither all increasing nor all decreasing, it's unsafe\n",
    "    if not (all_increasing or all_decreasing):\n",
    "        return False\n",
    "    \n",
    "    # Check if all differences are between 1 and 3 (inclusive)\n",
    "    return all(1 <= abs(diff) <= 3 for diff in diffs)\n",
    "\n",
    "def is_safe_with_dampener(levels):\n",
    "    \"\"\"\n",
    "    Check if a report is safe, either naturally or by removing one level using\n",
    "    the Problem Dampener.\n",
    "    \"\"\"\n",
    "    # First check if it's naturally safe\n",
    "    if is_safe_report(levels):\n",
    "        return True\n",
    "    \n",
    "    # Try removing each level one at a time\n",
    "    for i in range(len(levels)):\n",
    "        # Create new list without the current level\n",
    "        dampened_levels = levels[:i] + levels[i+1:]\n",
    "        if is_safe_report(dampened_levels):\n",
    "            return True\n",
    "    \n",
    "    return False\n",
    "\n",
    "def count_safe_reports(input_data):\n",
    "    \"\"\"Count how many reports in the input data are safe with Problem Dampener.\"\"\"\n",
    "    safe_count = 0\n",
    "    \n",
    "    # Process each line\n",
    "    for line in input_data.strip().split('\\n'):\n",
    "        if not line:  # Skip empty lines\n",
    "            continue\n",
    "        \n",
    "        # Convert line to list of integers\n",
    "        levels = [int(x) for x in line.split()]\n",
    "        \n",
    "        if is_safe_with_dampener(levels):\n",
    "            safe_count += 1\n",
    "    \n",
    "    return safe_count\n",
    "\n",
    "# Read input file and solve\n",
    "with open('input', 'r') as file:\n",
    "    input_data = file.read()\n",
    "\n",
    "result = count_safe_reports(input_data)\n",
    "print(result)"
   ]
  }
 ],
 "metadata": {
  "kernelspec": {
   "display_name": "aoc",
   "language": "python",
   "name": "python3"
  },
  "language_info": {
   "codemirror_mode": {
    "name": "ipython",
    "version": 3
   },
   "file_extension": ".py",
   "mimetype": "text/x-python",
   "name": "python",
   "nbconvert_exporter": "python",
   "pygments_lexer": "ipython3",
   "version": "3.12.7"
  }
 },
 "nbformat": 4,
 "nbformat_minor": 2
}
